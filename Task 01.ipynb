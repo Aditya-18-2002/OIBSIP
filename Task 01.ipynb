{
 "cells": [
  {
   "cell_type": "markdown",
   "id": "cd3507d7",
   "metadata": {},
   "source": [
    "# <font color=blue>Presented By Aditya Sikhwal</font>"
   ]
  },
  {
   "cell_type": "markdown",
   "id": "5d625538",
   "metadata": {},
   "source": [
    "### Oasis Infobyte Internship\n",
    "### Task 05 - Iris Flower Classification"
   ]
  },
  {
   "cell_type": "markdown",
   "id": "a5cd0e7a",
   "metadata": {},
   "source": [
    "### Importing necessary libraries"
   ]
  },
  {
   "cell_type": "code",
   "execution_count": null,
   "id": "cae150a8",
   "metadata": {},
   "outputs": [],
   "source": [
    "import pandas as pd\n",
    "import numpy as np\n",
    "import matplotlib.pyplot as plt\n",
    "import seaborn as sns"
   ]
  },
  {
   "cell_type": "markdown",
   "id": "45092425",
   "metadata": {},
   "source": [
    "### Exploring the Data"
   ]
  },
  {
   "cell_type": "code",
   "execution_count": null,
   "id": "e258bd1b",
   "metadata": {},
   "outputs": [],
   "source": [
    "dataset = pd.read_csv(r\"D:\\Oasis Infobyte\\Iris.csv\")\n",
    "dataset.head()"
   ]
  },
  {
   "cell_type": "code",
   "execution_count": null,
   "id": "13456534",
   "metadata": {},
   "outputs": [],
   "source": [
    "dataset=dataset.drop(columns =[\"Id\"],axis=1)\n",
    "dataset.head()"
   ]
  },
  {
   "cell_type": "code",
   "execution_count": null,
   "id": "ce591b34",
   "metadata": {},
   "outputs": [],
   "source": [
    "dataset.describe"
   ]
  },
  {
   "cell_type": "code",
   "execution_count": null,
   "id": "1d4051fe",
   "metadata": {},
   "outputs": [],
   "source": [
    "dataset.shape"
   ]
  },
  {
   "cell_type": "code",
   "execution_count": null,
   "id": "fc5f3e19",
   "metadata": {},
   "outputs": [],
   "source": [
    "dataset.dtypes"
   ]
  },
  {
   "cell_type": "code",
   "execution_count": null,
   "id": "72b6a096",
   "metadata": {},
   "outputs": [],
   "source": [
    "dataset['Species'].unique()"
   ]
  },
  {
   "cell_type": "code",
   "execution_count": null,
   "id": "5f2cb674",
   "metadata": {},
   "outputs": [],
   "source": [
    "#CHECKING FOR NULL VALUES\n",
    "\n",
    "dataset.isnull().sum()"
   ]
  },
  {
   "cell_type": "markdown",
   "id": "7b5cf850",
   "metadata": {},
   "source": [
    "### Correlation"
   ]
  },
  {
   "cell_type": "code",
   "execution_count": null,
   "id": "1ff14f22",
   "metadata": {},
   "outputs": [],
   "source": [
    "corr=dataset.corr(numeric_only =True)\n",
    "corr"
   ]
  },
  {
   "cell_type": "code",
   "execution_count": null,
   "id": "90e57650",
   "metadata": {},
   "outputs": [],
   "source": [
    "fig, ax = plt.subplots(figsize = (8,6))\n",
    "sns.heatmap(corr, annot = True, ax = ax)"
   ]
  },
  {
   "cell_type": "markdown",
   "id": "3d5f6e1c",
   "metadata": {},
   "source": [
    "### Visualizing the dataset"
   ]
  },
  {
   "cell_type": "code",
   "execution_count": null,
   "id": "f54ad094",
   "metadata": {},
   "outputs": [],
   "source": [
    "sns.pairplot(dataset, hue='Species')"
   ]
  },
  {
   "cell_type": "markdown",
   "id": "d7fdc801",
   "metadata": {},
   "source": [
    "### Preparing the data for training"
   ]
  },
  {
   "cell_type": "code",
   "execution_count": null,
   "id": "abab278d",
   "metadata": {},
   "outputs": [],
   "source": [
    "from sklearn.model_selection import train_test_split\n",
    "X = dataset.drop(columns = [\"Species\"])\n",
    "Y = dataset['Species']\n",
    "x_train, x_test,y_train, y_test = train_test_split(X ,Y ,test_size = 0.20)"
   ]
  },
  {
   "cell_type": "code",
   "execution_count": null,
   "id": "5245a947",
   "metadata": {},
   "outputs": [],
   "source": [
    "print(\"shape of x_train\",x_train.shape)"
   ]
  },
  {
   "cell_type": "code",
   "execution_count": null,
   "id": "c2ab5e19",
   "metadata": {},
   "outputs": [],
   "source": [
    "print(\"shape of y_train\",y_train.shape)"
   ]
  },
  {
   "cell_type": "markdown",
   "id": "0ad269b0",
   "metadata": {},
   "source": [
    "### Training Model"
   ]
  },
  {
   "cell_type": "code",
   "execution_count": null,
   "id": "ea5a21eb",
   "metadata": {},
   "outputs": [],
   "source": [
    "from sklearn.linear_model import LogisticRegression\n",
    "model = LogisticRegression()\n",
    "\n",
    "model.fit(x_train, y_train)\n",
    "\n",
    "print('Model Training Complete...')"
   ]
  },
  {
   "cell_type": "markdown",
   "id": "917149b6",
   "metadata": {},
   "source": [
    "### Accuracy Score"
   ]
  },
  {
   "cell_type": "code",
   "execution_count": null,
   "id": "8322e15b",
   "metadata": {},
   "outputs": [],
   "source": [
    "print(\"Accuracy: \",model.score(x_test, y_test)*100)"
   ]
  }
 ],
 "metadata": {
  "kernelspec": {
   "display_name": "Python 3 (ipykernel)",
   "language": "python",
   "name": "python3"
  },
  "language_info": {
   "codemirror_mode": {
    "name": "ipython",
    "version": 3
   },
   "file_extension": ".py",
   "mimetype": "text/x-python",
   "name": "python",
   "nbconvert_exporter": "python",
   "pygments_lexer": "ipython3",
   "version": "3.10.5"
  }
 },
 "nbformat": 4,
 "nbformat_minor": 5
}
